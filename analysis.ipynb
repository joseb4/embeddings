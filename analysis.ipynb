{
 "cells": [
  {
   "cell_type": "markdown",
   "id": "b481d9d8",
   "metadata": {},
   "source": [
    "# Statistical Analysis of Binary Biometric Embeddings\n",
    "\n",
    "In this notebook, we analyze the statistical properties of binary biometric embeddings extracted from face images. We explore the distribution of Hamming weights, compute Hamming distances between different users, and evaluate system performance by calculating the False Acceptance Rate (FAR) and False Rejection Rate (FRR). These analyses help in understanding the discriminative power and robustness of the biometric system.\n"
   ]
  },
  {
   "cell_type": "code",
   "execution_count": null,
   "id": "7c36eff0",
   "metadata": {},
   "outputs": [],
   "source": [
    "import numpy as np\n",
    "import plotly.express as px\n",
    "from plotly.subplots import make_subplots\n",
    "import ipywidgets as widgets\n",
    "import plotly.io as pio\n",
    "from err_calc_npy import load_float_embeddings, binarize_all, generar_pares, calcular_distancias, evaluar_umbral, graficar_interactivo, compute_err, encontrar_eer"
   ]
  },
  {
   "cell_type": "code",
   "execution_count": 2,
   "id": "7dae9a4f",
   "metadata": {},
   "outputs": [],
   "source": [
    "# Load embeddings and binarize data\n",
    "model = 512\n",
    "float_dim = model\n",
    "bits = 4 #3 or 4\n",
    "if bits == 3:\n",
    "    t1 = 0.1\n",
    "    t2 = None\n",
    "if bits == 4:\n",
    "    t1 = 0.12\n",
    "    t2 = 0.04\n",
    "\n",
    "dataset_dir = f\"./embeddings{model}_float_LFW\"\n",
    "data_f = load_float_embeddings(dataset_dir, float_dim)\n",
    "data_b = binarize_all(data_f, bits, t1, t2) # Takes 4 secs approx"
   ]
  },
  {
   "cell_type": "code",
   "execution_count": 3,
   "id": "0c9167f4",
   "metadata": {},
   "outputs": [],
   "source": [
    "def epsilon(k, n, t):\n",
    "    \"\"\"\n",
    "    Calculate the epsilon value based on the given parameters.\n",
    "    \n",
    "    Parameters:\n",
    "    k (int): Code dimension.\n",
    "    n (int): Code length.\n",
    "    t (float): number of corrected errors.\n",
    "    \n",
    "    Returns:\n",
    "    float: The calculated epsilon value.\n",
    "    \"\"\"\n",
    "    if k > n or k < 0 or n <= 0:\n",
    "        raise ValueError(\"Invalid values for k and n.\")\n",
    "    \n",
    "    # Calculate epsilon using the formula\n",
    "    p = (t/n)\n",
    "    ϵ = -1 + k/n - p*np.log2(p) - (1 - p)*np.log2(1 - p)\n",
    "    return ϵ\n",
    "    "
   ]
  },
  {
   "cell_type": "code",
   "execution_count": 4,
   "id": "6f8581d5",
   "metadata": {},
   "outputs": [
    {
     "data": {
      "text/plain": [
       "np.float64(0.24519376340980123)"
      ]
     },
     "execution_count": 4,
     "metadata": {},
     "output_type": "execute_result"
    }
   ],
   "source": [
    "epsilon(1217, 1634, 180)"
   ]
  },
  {
   "cell_type": "code",
   "execution_count": null,
   "id": "95e6f294",
   "metadata": {},
   "outputs": [
    {
     "name": "stdout",
     "output_type": "stream",
     "text": [
      "Personas seleccionadas para pares genuinos: 1272\n"
     ]
    },
    {
     "name": "stderr",
     "output_type": "stream",
     "text": [
      "Generando pares genuinos: 100%|██████████| 1272/1272 [00:00<00:00, 8889.58it/s]\n",
      "Generando pares impostores: 100%|██████████| 100000/100000 [00:00<00:00, 129558.95it/s]\n"
     ]
    },
    {
     "name": "stdout",
     "output_type": "stream",
     "text": [
      "Gereating figure...\n"
     ]
    }
   ],
   "source": [
    "import plotly.graph_objects as go\n",
    "import ipywidgets as widgets\n",
    "from IPython.display import display, clear_output\n",
    "\n",
    "genuinos, impostores = generar_pares(data_b)\n",
    "dist_g = calcular_distancias(genuinos)\n",
    "dist_i = calcular_distancias(impostores)\n",
    "\n",
    "\n",
    "bin_length = next(iter(data_b.values())).shape[1]\n",
    "thresholds = list(range(0, bin_length + 1))\n",
    "fars, frrs = evaluar_umbral(dist_g, dist_i, thresholds)\n",
    "eer_th, eer_val = encontrar_eer(thresholds, fars, frrs)\n",
    "\n",
    "\n",
    "weights = [int(arr[0].sum()) for arr in data_b.values()]\n",
    "weights_sample = weights  # Use a sample for speed\n",
    "\n",
    "k_slider = widgets.IntSlider(value=1217, min=1200, max=2000, step=1, description='k', continuous_update=False)\n",
    "n_slider = widgets.IntSlider(value=1634, min=1500, max=3000, step=1, description='n', continuous_update=False)\n",
    "t_slider = widgets.IntSlider(value=600, min=0, max=1200, step = 1, description='t', continuous_update=False)\n",
    "out = widgets.Output()\n",
    "\n",
    "\n",
    "print(\"Gereating figure...\")\n",
    "\n",
    "\n",
    "def update_histogram(change=None):\n",
    "    k = k_slider.value\n",
    "    n = n_slider.value\n",
    "    t = t_slider.value\n",
    "    eps = epsilon(k, n, t)\n",
    "    left = min(t, n - t)\n",
    "    right = max(t, n - t)\n",
    "\n",
    "    # Create subplot with secondary y-axis\n",
    "    fig = make_subplots(specs=[[{\"secondary_y\": True}]])\n",
    "\n",
    "    # Histogram (primary y-axis)\n",
    "    fig.add_trace(\n",
    "        go.Histogram(x=weights_sample, nbinsx=30, name=\"Weights\"),\n",
    "        secondary_y=False,\n",
    "    )\n",
    "    # FAR and FRR (secondary y-axis)\n",
    "    fig.add_trace(\n",
    "        go.Scatter(x=thresholds, y=fars, name=\"FAR\", mode=\"lines\"),\n",
    "        secondary_y=True,\n",
    "    )\n",
    "    fig.add_trace(\n",
    "        go.Scatter(x=thresholds, y=frrs, name=\"FRR\", mode=\"lines\"),\n",
    "        secondary_y=True,\n",
    "    )\n",
    "    fig.add_trace(\n",
    "        go.Scatter(\n",
    "            x=[eer_th], y=[eer_val],\n",
    "            name=\"EER\", mode=\"markers+text\",\n",
    "            text=[f\"{eer_val:.2f}%\"], textposition=\"top right\"\n",
    "        ),\n",
    "        secondary_y=True,\n",
    "    )\n",
    "\n",
    "    # Add vertical line and shaded region\n",
    "    fig.add_shape(\n",
    "        name=\"Non-encrypted region\",\n",
    "        type=\"line\",\n",
    "        x0=eer_th, x1=eer_th,\n",
    "        y0=0, y1=1,\n",
    "        yref=\"paper\",\n",
    "        line=dict(dash=\"dash\"),\n",
    "    )\n",
    "    fig.add_shape(\n",
    "        type=\"rect\",\n",
    "        x0=left, x1=right,\n",
    "        y0=0, y1=1,\n",
    "        yref=\"paper\",\n",
    "        fillcolor=\"rgba(200,0,0,0.2)\",\n",
    "        line=dict(width=0),\n",
    "        layer=\"below\"\n",
    "    )\n",
    "\n",
    "    fig.update_layout(\n",
    "        title=f\"Hamming Weights Distribution (security= {(eps*n/2)}, k = {k}, n = {n})\",\n",
    "        xaxis_title=\"Umbral de Hamming\",\n",
    "        yaxis_title=\"Histogram\",\n",
    "        yaxis2_title=\"FAR/FRR (%)\",\n",
    "        legend=dict(x=0.01, y=0.99),\n",
    "        template=\"plotly_white\"\n",
    "    )\n",
    "    with out:\n",
    "        clear_output(wait=True)\n",
    "        fig.show()"
   ]
  }
 ],
 "metadata": {
  "kernelspec": {
   "display_name": ".venv",
   "language": "python",
   "name": "python3"
  },
  "language_info": {
   "codemirror_mode": {
    "name": "ipython",
    "version": 3
   },
   "file_extension": ".py",
   "mimetype": "text/x-python",
   "name": "python",
   "nbconvert_exporter": "python",
   "pygments_lexer": "ipython3",
   "version": "3.12.3"
  }
 },
 "nbformat": 4,
 "nbformat_minor": 5
}
